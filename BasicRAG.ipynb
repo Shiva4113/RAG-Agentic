{
  "nbformat": 4,
  "nbformat_minor": 0,
  "metadata": {
    "colab": {
      "provenance": [],
      "include_colab_link": true
    },
    "kernelspec": {
      "name": "python3",
      "display_name": "Python 3"
    },
    "language_info": {
      "name": "python"
    }
  },
  "cells": [
    {
      "cell_type": "markdown",
      "metadata": {
        "id": "view-in-github",
        "colab_type": "text"
      },
      "source": [
        "<a href=\"https://colab.research.google.com/github/Shiva4113/RAG-Agentic/blob/main/BasicRAG.ipynb\" target=\"_parent\"><img src=\"https://colab.research.google.com/assets/colab-badge.svg\" alt=\"Open In Colab\"/></a>"
      ]
    },
    {
      "cell_type": "markdown",
      "source": [],
      "metadata": {
        "id": "3PLYSVcFNBU6"
      }
    },
    {
      "cell_type": "markdown",
      "source": [
        "### REQUIREMENTS"
      ],
      "metadata": {
        "id": "by9070A_fYCn"
      }
    },
    {
      "cell_type": "code",
      "source": [
        "!pip install llama-index\n",
        "!pip install llama-index-embeddings-jinaai\n",
        "!pip install llama-index-llms-groq"
      ],
      "metadata": {
        "id": "8Oz99lT0UwjR"
      },
      "execution_count": null,
      "outputs": []
    },
    {
      "cell_type": "markdown",
      "source": [
        "### IMPORTS"
      ],
      "metadata": {
        "id": "QpBg783vfauS"
      }
    },
    {
      "cell_type": "code",
      "execution_count": null,
      "metadata": {
        "id": "TNje9pJLS1ya"
      },
      "outputs": [],
      "source": [
        "import os\n",
        "from google.colab import userdata\n",
        "from llama_index.core import VectorStoreIndex, Settings, SimpleDirectoryReader\n",
        "from llama_index.embeddings.jinaai import JinaEmbedding\n",
        "from llama_index.llms.groq import Groq"
      ]
    },
    {
      "cell_type": "markdown",
      "source": [
        "### Basic RAG Pipeline"
      ],
      "metadata": {
        "id": "-ME3pSGufp9H"
      }
    },
    {
      "cell_type": "code",
      "source": [
        "class NaiveRAG:\n",
        "    def __init__(self, pdf_path: str):\n",
        "      #configuring your API keys\n",
        "        self.groq_key = userdata.get('GROQ_API_KEY') #for LLM querying\n",
        "        self.jina_key = userdata.get('JINA_API_KEY') #for generating embeddings\n",
        "\n",
        "        if not self.groq_key or not self.jina_key:\n",
        "            raise ValueError(\"API keys not found in .env file\")\n",
        "\n",
        "        self._setup_settings()\n",
        "        self.index = self._create_index(pdf_path)\n",
        "\n",
        "    def _setup_settings(self):\n",
        "        \"\"\"Configure global settings for LlamaIndex\"\"\"\n",
        "        Settings.llm = Groq(\n",
        "            api_key=self.groq_key,\n",
        "            model=\"llama-3.3-70b-versatile\"# the model that will be queried\n",
        "        )\n",
        "\n",
        "        Settings.embed_model = JinaEmbedding(\n",
        "            api_key=self.jina_key,\n",
        "            model_name=\"jina-embeddings-v2-base-en\" # the embedding model used for vectorization\n",
        "        )\n",
        "\n",
        "    def _create_index(self, pdf_path): #This Vector Store index is used instead of using a Vector Database, for larger scale applications, you can also use a Vector Database like Pinecone\n",
        "        \"\"\"Create vector index from PDF document\"\"\"\n",
        "        if not os.path.exists(pdf_path):\n",
        "            raise FileNotFoundError(f\"PDF file not found: {pdf_path}\")\n",
        "\n",
        "        reader = SimpleDirectoryReader(input_files=[pdf_path])#To read files in a directory\n",
        "        documents = reader.load_data()\n",
        "        return VectorStoreIndex.from_documents(documents)\n",
        "\n",
        "    def query(self, question: str):\n",
        "        \"\"\"Query the RAG system\"\"\"\n",
        "        query_engine = self.index.as_query_engine()#setting up the query engine -> Llama-3.3-70b is the LLM being queried\n",
        "        return query_engine.query(question)"
      ],
      "metadata": {
        "id": "f69MN4UVUPmT"
      },
      "execution_count": null,
      "outputs": []
    },
    {
      "cell_type": "markdown",
      "source": [
        "### Example Implementation"
      ],
      "metadata": {
        "id": "KOGYTwc5f3Ut"
      }
    },
    {
      "cell_type": "code",
      "source": [
        "pdf_path = \"/content/dataset_test.pdf\" # path to the document that you uploaded\n",
        "\n",
        "rag = NaiveRAG(pdf_path)# initialize the Naive RAG instance which will process PDF and create a vector index"
      ],
      "metadata": {
        "id": "9MSqDQ0gVq6t"
      },
      "execution_count": null,
      "outputs": []
    },
    {
      "cell_type": "code",
      "source": [
        "question = \"What is a public cloud?\"# Any question that is within the scope of the uploaded doc\n",
        "response = rag.query(question)\n",
        "print(f\"Question: {question}\")\n",
        "print(f\"Answer: {response}\")"
      ],
      "metadata": {
        "id": "T_IJEFanW32x"
      },
      "execution_count": null,
      "outputs": []
    }
  ]
}