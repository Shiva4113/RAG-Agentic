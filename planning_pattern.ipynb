{
  "cells": [
    {
      "cell_type": "markdown",
      "source": [
        "## Setup"
      ],
      "metadata": {
        "id": "8kMJBZlHJy3z"
      },
      "id": "8kMJBZlHJy3z"
    },
    {
      "cell_type": "code",
      "source": [
        "!git clone https://github.com/neural-maze/agentic_patterns"
      ],
      "metadata": {
        "colab": {
          "base_uri": "https://localhost:8080/"
        },
        "id": "FOOacyqpJyI1",
        "outputId": "84d47815-6d31-498b-cedf-9d5a49885416"
      },
      "id": "FOOacyqpJyI1",
      "execution_count": 1,
      "outputs": [
        {
          "output_type": "stream",
          "name": "stdout",
          "text": [
            "fatal: destination path 'agentic_patterns' already exists and is not an empty directory.\n"
          ]
        }
      ]
    },
    {
      "cell_type": "code",
      "source": [
        "%cd agentic_patterns"
      ],
      "metadata": {
        "colab": {
          "base_uri": "https://localhost:8080/"
        },
        "id": "895Zwm9qJ4gX",
        "outputId": "9b28617f-ab1d-4ca3-a8e4-9cbae3e8f47c"
      },
      "id": "895Zwm9qJ4gX",
      "execution_count": 2,
      "outputs": [
        {
          "output_type": "stream",
          "name": "stdout",
          "text": [
            "/content/agentic_patterns\n"
          ]
        }
      ]
    },
    {
      "cell_type": "code",
      "source": [
        "!pip install groq==0.10.0 jupyter==1.0.0 python-dotenv==1.0.1 colorama==0.4.6 types-colorama==0.4.15.20240311 graphviz==0.20.3 httpx==0.27.2"
      ],
      "metadata": {
        "colab": {
          "base_uri": "https://localhost:8080/"
        },
        "id": "rFTpZV-vKX75",
        "outputId": "9faebedc-da9b-48ad-d905-9fa3deee66f1"
      },
      "id": "rFTpZV-vKX75",
      "execution_count": 3,
      "outputs": [
        {
          "output_type": "stream",
          "name": "stdout",
          "text": [
            "Requirement already satisfied: groq==0.10.0 in /usr/local/lib/python3.11/dist-packages (0.10.0)\n",
            "Requirement already satisfied: jupyter==1.0.0 in /usr/local/lib/python3.11/dist-packages (1.0.0)\n",
            "Requirement already satisfied: python-dotenv==1.0.1 in /usr/local/lib/python3.11/dist-packages (1.0.1)\n",
            "Requirement already satisfied: colorama==0.4.6 in /usr/local/lib/python3.11/dist-packages (0.4.6)\n",
            "Requirement already satisfied: types-colorama==0.4.15.20240311 in /usr/local/lib/python3.11/dist-packages (0.4.15.20240311)\n",
            "Requirement already satisfied: graphviz==0.20.3 in /usr/local/lib/python3.11/dist-packages (0.20.3)\n",
            "Collecting httpx==0.27.2\n",
            "  Downloading httpx-0.27.2-py3-none-any.whl.metadata (7.1 kB)\n",
            "Requirement already satisfied: anyio<5,>=3.5.0 in /usr/local/lib/python3.11/dist-packages (from groq==0.10.0) (3.7.1)\n",
            "Requirement already satisfied: distro<2,>=1.7.0 in /usr/local/lib/python3.11/dist-packages (from groq==0.10.0) (1.9.0)\n",
            "Requirement already satisfied: pydantic<3,>=1.9.0 in /usr/local/lib/python3.11/dist-packages (from groq==0.10.0) (2.10.6)\n",
            "Requirement already satisfied: sniffio in /usr/local/lib/python3.11/dist-packages (from groq==0.10.0) (1.3.1)\n",
            "Requirement already satisfied: typing-extensions<5,>=4.7 in /usr/local/lib/python3.11/dist-packages (from groq==0.10.0) (4.12.2)\n",
            "Requirement already satisfied: notebook in /usr/local/lib/python3.11/dist-packages (from jupyter==1.0.0) (6.5.5)\n",
            "Requirement already satisfied: qtconsole in /usr/local/lib/python3.11/dist-packages (from jupyter==1.0.0) (5.6.1)\n",
            "Requirement already satisfied: jupyter-console in /usr/local/lib/python3.11/dist-packages (from jupyter==1.0.0) (6.1.0)\n",
            "Requirement already satisfied: nbconvert in /usr/local/lib/python3.11/dist-packages (from jupyter==1.0.0) (7.16.5)\n",
            "Requirement already satisfied: ipykernel in /usr/local/lib/python3.11/dist-packages (from jupyter==1.0.0) (6.29.5)\n",
            "Requirement already satisfied: ipywidgets in /usr/local/lib/python3.11/dist-packages (from jupyter==1.0.0) (7.7.1)\n",
            "Requirement already satisfied: certifi in /usr/local/lib/python3.11/dist-packages (from httpx==0.27.2) (2024.12.14)\n",
            "Requirement already satisfied: httpcore==1.* in /usr/local/lib/python3.11/dist-packages (from httpx==0.27.2) (1.0.7)\n",
            "Requirement already satisfied: idna in /usr/local/lib/python3.11/dist-packages (from httpx==0.27.2) (3.10)\n",
            "Requirement already satisfied: h11<0.15,>=0.13 in /usr/local/lib/python3.11/dist-packages (from httpcore==1.*->httpx==0.27.2) (0.14.0)\n",
            "Requirement already satisfied: annotated-types>=0.6.0 in /usr/local/lib/python3.11/dist-packages (from pydantic<3,>=1.9.0->groq==0.10.0) (0.7.0)\n",
            "Requirement already satisfied: pydantic-core==2.27.2 in /usr/local/lib/python3.11/dist-packages (from pydantic<3,>=1.9.0->groq==0.10.0) (2.27.2)\n",
            "Requirement already satisfied: comm>=0.1.1 in /usr/local/lib/python3.11/dist-packages (from ipykernel->jupyter==1.0.0) (0.2.2)\n",
            "Requirement already satisfied: debugpy>=1.6.5 in /usr/local/lib/python3.11/dist-packages (from ipykernel->jupyter==1.0.0) (1.8.0)\n",
            "Requirement already satisfied: ipython>=7.23.1 in /usr/local/lib/python3.11/dist-packages (from ipykernel->jupyter==1.0.0) (7.34.0)\n",
            "Requirement already satisfied: jupyter-client>=6.1.12 in /usr/local/lib/python3.11/dist-packages (from ipykernel->jupyter==1.0.0) (7.4.9)\n",
            "Requirement already satisfied: jupyter-core!=5.0.*,>=4.12 in /usr/local/lib/python3.11/dist-packages (from ipykernel->jupyter==1.0.0) (5.7.2)\n",
            "Requirement already satisfied: matplotlib-inline>=0.1 in /usr/local/lib/python3.11/dist-packages (from ipykernel->jupyter==1.0.0) (0.1.7)\n",
            "Requirement already satisfied: nest-asyncio in /usr/local/lib/python3.11/dist-packages (from ipykernel->jupyter==1.0.0) (1.6.0)\n",
            "Requirement already satisfied: packaging in /usr/local/lib/python3.11/dist-packages (from ipykernel->jupyter==1.0.0) (24.2)\n",
            "Requirement already satisfied: psutil in /usr/local/lib/python3.11/dist-packages (from ipykernel->jupyter==1.0.0) (5.9.5)\n",
            "Requirement already satisfied: pyzmq>=24 in /usr/local/lib/python3.11/dist-packages (from ipykernel->jupyter==1.0.0) (24.0.1)\n",
            "Requirement already satisfied: tornado>=6.1 in /usr/local/lib/python3.11/dist-packages (from ipykernel->jupyter==1.0.0) (6.3.3)\n",
            "Requirement already satisfied: traitlets>=5.4.0 in /usr/local/lib/python3.11/dist-packages (from ipykernel->jupyter==1.0.0) (5.7.1)\n",
            "Requirement already satisfied: ipython-genutils~=0.2.0 in /usr/local/lib/python3.11/dist-packages (from ipywidgets->jupyter==1.0.0) (0.2.0)\n",
            "Requirement already satisfied: widgetsnbextension~=3.6.0 in /usr/local/lib/python3.11/dist-packages (from ipywidgets->jupyter==1.0.0) (3.6.10)\n",
            "Requirement already satisfied: jupyterlab-widgets>=1.0.0 in /usr/local/lib/python3.11/dist-packages (from ipywidgets->jupyter==1.0.0) (3.0.13)\n",
            "Requirement already satisfied: prompt-toolkit!=3.0.0,!=3.0.1,<3.1.0,>=2.0.0 in /usr/local/lib/python3.11/dist-packages (from jupyter-console->jupyter==1.0.0) (3.0.50)\n",
            "Requirement already satisfied: pygments in /usr/local/lib/python3.11/dist-packages (from jupyter-console->jupyter==1.0.0) (2.18.0)\n",
            "Requirement already satisfied: beautifulsoup4 in /usr/local/lib/python3.11/dist-packages (from nbconvert->jupyter==1.0.0) (4.12.3)\n",
            "Requirement already satisfied: bleach!=5.0.0 in /usr/local/lib/python3.11/dist-packages (from bleach[css]!=5.0.0->nbconvert->jupyter==1.0.0) (6.2.0)\n",
            "Requirement already satisfied: defusedxml in /usr/local/lib/python3.11/dist-packages (from nbconvert->jupyter==1.0.0) (0.7.1)\n",
            "Requirement already satisfied: jinja2>=3.0 in /usr/local/lib/python3.11/dist-packages (from nbconvert->jupyter==1.0.0) (3.1.5)\n",
            "Requirement already satisfied: jupyterlab-pygments in /usr/local/lib/python3.11/dist-packages (from nbconvert->jupyter==1.0.0) (0.3.0)\n",
            "Requirement already satisfied: markupsafe>=2.0 in /usr/local/lib/python3.11/dist-packages (from nbconvert->jupyter==1.0.0) (3.0.2)\n",
            "Requirement already satisfied: mistune<4,>=2.0.3 in /usr/local/lib/python3.11/dist-packages (from nbconvert->jupyter==1.0.0) (3.1.0)\n",
            "Requirement already satisfied: nbclient>=0.5.0 in /usr/local/lib/python3.11/dist-packages (from nbconvert->jupyter==1.0.0) (0.10.2)\n",
            "Requirement already satisfied: nbformat>=5.7 in /usr/local/lib/python3.11/dist-packages (from nbconvert->jupyter==1.0.0) (5.10.4)\n",
            "Requirement already satisfied: pandocfilters>=1.4.1 in /usr/local/lib/python3.11/dist-packages (from nbconvert->jupyter==1.0.0) (1.5.1)\n",
            "Requirement already satisfied: argon2-cffi in /usr/local/lib/python3.11/dist-packages (from notebook->jupyter==1.0.0) (23.1.0)\n",
            "Requirement already satisfied: Send2Trash>=1.8.0 in /usr/local/lib/python3.11/dist-packages (from notebook->jupyter==1.0.0) (1.8.3)\n",
            "Requirement already satisfied: terminado>=0.8.3 in /usr/local/lib/python3.11/dist-packages (from notebook->jupyter==1.0.0) (0.18.1)\n",
            "Requirement already satisfied: prometheus-client in /usr/local/lib/python3.11/dist-packages (from notebook->jupyter==1.0.0) (0.21.1)\n",
            "Requirement already satisfied: nbclassic>=0.4.7 in /usr/local/lib/python3.11/dist-packages (from notebook->jupyter==1.0.0) (1.2.0)\n",
            "Requirement already satisfied: qtpy>=2.4.0 in /usr/local/lib/python3.11/dist-packages (from qtconsole->jupyter==1.0.0) (2.4.2)\n",
            "Requirement already satisfied: webencodings in /usr/local/lib/python3.11/dist-packages (from bleach!=5.0.0->bleach[css]!=5.0.0->nbconvert->jupyter==1.0.0) (0.5.1)\n",
            "Requirement already satisfied: tinycss2<1.5,>=1.1.0 in /usr/local/lib/python3.11/dist-packages (from bleach[css]!=5.0.0->nbconvert->jupyter==1.0.0) (1.4.0)\n",
            "Requirement already satisfied: setuptools>=18.5 in /usr/local/lib/python3.11/dist-packages (from ipython>=7.23.1->ipykernel->jupyter==1.0.0) (75.1.0)\n",
            "Requirement already satisfied: jedi>=0.16 in /usr/local/lib/python3.11/dist-packages (from ipython>=7.23.1->ipykernel->jupyter==1.0.0) (0.19.2)\n",
            "Requirement already satisfied: decorator in /usr/local/lib/python3.11/dist-packages (from ipython>=7.23.1->ipykernel->jupyter==1.0.0) (4.4.2)\n",
            "Requirement already satisfied: pickleshare in /usr/local/lib/python3.11/dist-packages (from ipython>=7.23.1->ipykernel->jupyter==1.0.0) (0.7.5)\n",
            "Requirement already satisfied: backcall in /usr/local/lib/python3.11/dist-packages (from ipython>=7.23.1->ipykernel->jupyter==1.0.0) (0.2.0)\n",
            "Requirement already satisfied: pexpect>4.3 in /usr/local/lib/python3.11/dist-packages (from ipython>=7.23.1->ipykernel->jupyter==1.0.0) (4.9.0)\n",
            "Requirement already satisfied: entrypoints in /usr/local/lib/python3.11/dist-packages (from jupyter-client>=6.1.12->ipykernel->jupyter==1.0.0) (0.4)\n",
            "Requirement already satisfied: python-dateutil>=2.8.2 in /usr/local/lib/python3.11/dist-packages (from jupyter-client>=6.1.12->ipykernel->jupyter==1.0.0) (2.8.2)\n",
            "Requirement already satisfied: platformdirs>=2.5 in /usr/local/lib/python3.11/dist-packages (from jupyter-core!=5.0.*,>=4.12->ipykernel->jupyter==1.0.0) (4.3.6)\n",
            "Requirement already satisfied: notebook-shim>=0.2.3 in /usr/local/lib/python3.11/dist-packages (from nbclassic>=0.4.7->notebook->jupyter==1.0.0) (0.2.4)\n",
            "Requirement already satisfied: fastjsonschema>=2.15 in /usr/local/lib/python3.11/dist-packages (from nbformat>=5.7->nbconvert->jupyter==1.0.0) (2.21.1)\n",
            "Requirement already satisfied: jsonschema>=2.6 in /usr/local/lib/python3.11/dist-packages (from nbformat>=5.7->nbconvert->jupyter==1.0.0) (4.23.0)\n",
            "Requirement already satisfied: wcwidth in /usr/local/lib/python3.11/dist-packages (from prompt-toolkit!=3.0.0,!=3.0.1,<3.1.0,>=2.0.0->jupyter-console->jupyter==1.0.0) (0.2.13)\n",
            "Requirement already satisfied: ptyprocess in /usr/local/lib/python3.11/dist-packages (from terminado>=0.8.3->notebook->jupyter==1.0.0) (0.7.0)\n",
            "Requirement already satisfied: argon2-cffi-bindings in /usr/local/lib/python3.11/dist-packages (from argon2-cffi->notebook->jupyter==1.0.0) (21.2.0)\n",
            "Requirement already satisfied: soupsieve>1.2 in /usr/local/lib/python3.11/dist-packages (from beautifulsoup4->nbconvert->jupyter==1.0.0) (2.6)\n",
            "Requirement already satisfied: parso<0.9.0,>=0.8.4 in /usr/local/lib/python3.11/dist-packages (from jedi>=0.16->ipython>=7.23.1->ipykernel->jupyter==1.0.0) (0.8.4)\n",
            "Requirement already satisfied: attrs>=22.2.0 in /usr/local/lib/python3.11/dist-packages (from jsonschema>=2.6->nbformat>=5.7->nbconvert->jupyter==1.0.0) (24.3.0)\n",
            "Requirement already satisfied: jsonschema-specifications>=2023.03.6 in /usr/local/lib/python3.11/dist-packages (from jsonschema>=2.6->nbformat>=5.7->nbconvert->jupyter==1.0.0) (2024.10.1)\n",
            "Requirement already satisfied: referencing>=0.28.4 in /usr/local/lib/python3.11/dist-packages (from jsonschema>=2.6->nbformat>=5.7->nbconvert->jupyter==1.0.0) (0.36.1)\n",
            "Requirement already satisfied: rpds-py>=0.7.1 in /usr/local/lib/python3.11/dist-packages (from jsonschema>=2.6->nbformat>=5.7->nbconvert->jupyter==1.0.0) (0.22.3)\n",
            "Requirement already satisfied: jupyter-server<3,>=1.8 in /usr/local/lib/python3.11/dist-packages (from notebook-shim>=0.2.3->nbclassic>=0.4.7->notebook->jupyter==1.0.0) (2.15.0)\n",
            "Requirement already satisfied: six>=1.5 in /usr/local/lib/python3.11/dist-packages (from python-dateutil>=2.8.2->jupyter-client>=6.1.12->ipykernel->jupyter==1.0.0) (1.17.0)\n",
            "Requirement already satisfied: cffi>=1.0.1 in /usr/local/lib/python3.11/dist-packages (from argon2-cffi-bindings->argon2-cffi->notebook->jupyter==1.0.0) (1.17.1)\n",
            "Requirement already satisfied: pycparser in /usr/local/lib/python3.11/dist-packages (from cffi>=1.0.1->argon2-cffi-bindings->argon2-cffi->notebook->jupyter==1.0.0) (2.22)\n",
            "Requirement already satisfied: jupyter-events>=0.11.0 in /usr/local/lib/python3.11/dist-packages (from jupyter-server<3,>=1.8->notebook-shim>=0.2.3->nbclassic>=0.4.7->notebook->jupyter==1.0.0) (0.11.0)\n",
            "Requirement already satisfied: jupyter-server-terminals>=0.4.4 in /usr/local/lib/python3.11/dist-packages (from jupyter-server<3,>=1.8->notebook-shim>=0.2.3->nbclassic>=0.4.7->notebook->jupyter==1.0.0) (0.5.3)\n",
            "Requirement already satisfied: overrides>=5.0 in /usr/local/lib/python3.11/dist-packages (from jupyter-server<3,>=1.8->notebook-shim>=0.2.3->nbclassic>=0.4.7->notebook->jupyter==1.0.0) (7.7.0)\n",
            "Requirement already satisfied: websocket-client>=1.7 in /usr/local/lib/python3.11/dist-packages (from jupyter-server<3,>=1.8->notebook-shim>=0.2.3->nbclassic>=0.4.7->notebook->jupyter==1.0.0) (1.8.0)\n",
            "Requirement already satisfied: python-json-logger>=2.0.4 in /usr/local/lib/python3.11/dist-packages (from jupyter-events>=0.11.0->jupyter-server<3,>=1.8->notebook-shim>=0.2.3->nbclassic>=0.4.7->notebook->jupyter==1.0.0) (3.2.1)\n",
            "Requirement already satisfied: pyyaml>=5.3 in /usr/local/lib/python3.11/dist-packages (from jupyter-events>=0.11.0->jupyter-server<3,>=1.8->notebook-shim>=0.2.3->nbclassic>=0.4.7->notebook->jupyter==1.0.0) (6.0.2)\n",
            "Requirement already satisfied: rfc3339-validator in /usr/local/lib/python3.11/dist-packages (from jupyter-events>=0.11.0->jupyter-server<3,>=1.8->notebook-shim>=0.2.3->nbclassic>=0.4.7->notebook->jupyter==1.0.0) (0.1.4)\n",
            "Requirement already satisfied: rfc3986-validator>=0.1.1 in /usr/local/lib/python3.11/dist-packages (from jupyter-events>=0.11.0->jupyter-server<3,>=1.8->notebook-shim>=0.2.3->nbclassic>=0.4.7->notebook->jupyter==1.0.0) (0.1.1)\n",
            "Requirement already satisfied: fqdn in /usr/local/lib/python3.11/dist-packages (from jsonschema[format-nongpl]>=4.18.0->jupyter-events>=0.11.0->jupyter-server<3,>=1.8->notebook-shim>=0.2.3->nbclassic>=0.4.7->notebook->jupyter==1.0.0) (1.5.1)\n",
            "Requirement already satisfied: isoduration in /usr/local/lib/python3.11/dist-packages (from jsonschema[format-nongpl]>=4.18.0->jupyter-events>=0.11.0->jupyter-server<3,>=1.8->notebook-shim>=0.2.3->nbclassic>=0.4.7->notebook->jupyter==1.0.0) (20.11.0)\n",
            "Requirement already satisfied: jsonpointer>1.13 in /usr/local/lib/python3.11/dist-packages (from jsonschema[format-nongpl]>=4.18.0->jupyter-events>=0.11.0->jupyter-server<3,>=1.8->notebook-shim>=0.2.3->nbclassic>=0.4.7->notebook->jupyter==1.0.0) (3.0.0)\n",
            "Requirement already satisfied: uri-template in /usr/local/lib/python3.11/dist-packages (from jsonschema[format-nongpl]>=4.18.0->jupyter-events>=0.11.0->jupyter-server<3,>=1.8->notebook-shim>=0.2.3->nbclassic>=0.4.7->notebook->jupyter==1.0.0) (1.3.0)\n",
            "Requirement already satisfied: webcolors>=24.6.0 in /usr/local/lib/python3.11/dist-packages (from jsonschema[format-nongpl]>=4.18.0->jupyter-events>=0.11.0->jupyter-server<3,>=1.8->notebook-shim>=0.2.3->nbclassic>=0.4.7->notebook->jupyter==1.0.0) (24.11.1)\n",
            "Requirement already satisfied: arrow>=0.15.0 in /usr/local/lib/python3.11/dist-packages (from isoduration->jsonschema[format-nongpl]>=4.18.0->jupyter-events>=0.11.0->jupyter-server<3,>=1.8->notebook-shim>=0.2.3->nbclassic>=0.4.7->notebook->jupyter==1.0.0) (1.3.0)\n",
            "Requirement already satisfied: types-python-dateutil>=2.8.10 in /usr/local/lib/python3.11/dist-packages (from arrow>=0.15.0->isoduration->jsonschema[format-nongpl]>=4.18.0->jupyter-events>=0.11.0->jupyter-server<3,>=1.8->notebook-shim>=0.2.3->nbclassic>=0.4.7->notebook->jupyter==1.0.0) (2.9.0.20241206)\n",
            "Downloading httpx-0.27.2-py3-none-any.whl (76 kB)\n",
            "\u001b[2K   \u001b[90m━━━━━━━━━━━━━━━━━━━━━━━━━━━━━━━━━━━━━━━━\u001b[0m \u001b[32m76.4/76.4 kB\u001b[0m \u001b[31m2.2 MB/s\u001b[0m eta \u001b[36m0:00:00\u001b[0m\n",
            "\u001b[?25hInstalling collected packages: httpx\n",
            "  Attempting uninstall: httpx\n",
            "    Found existing installation: httpx 0.28.1\n",
            "    Uninstalling httpx-0.28.1:\n",
            "      Successfully uninstalled httpx-0.28.1\n",
            "\u001b[31mERROR: pip's dependency resolver does not currently take into account all the packages that are installed. This behaviour is the source of the following dependency conflicts.\n",
            "agentic-patterns 1.0.0 requires groq<0.10.0,>=0.9.0, but you have groq 0.10.0 which is incompatible.\u001b[0m\u001b[31m\n",
            "\u001b[0mSuccessfully installed httpx-0.27.2\n"
          ]
        }
      ]
    },
    {
      "cell_type": "markdown",
      "id": "15ba0126-56d3-426e-977f-aee8a94646a6",
      "metadata": {
        "id": "15ba0126-56d3-426e-977f-aee8a94646a6"
      },
      "source": [
        "# Planning Pattern - ReAct Technique"
      ]
    },
    {
      "cell_type": "markdown",
      "id": "d71b47fa-4265-49ef-8e1f-cf8249e12a3f",
      "metadata": {
        "id": "d71b47fa-4265-49ef-8e1f-cf8249e12a3f"
      },
      "source": [
        "<img src=\"https://github.com/neural-maze/agentic_patterns/blob/main/img/planning_pattern.png?raw=1\" alt=\"Alt text\" width=\"500\"/>\n",
        "\n",
        "---\n",
        "\n",
        "So, we've seen agents capable of reflecting and using tools to access the outside world. But ... **what about planning**,\n",
        "i.e. deciding what sequence of steps to follow to accomplish a large task?\n",
        "\n",
        "That is exactly what the Planning Pattern provides; ways for the LLM to break a task into **smaller, more easily accomplished subgoals** without losing track of the end goal.\n",
        "\n",
        "The most paradigmatic example of the planning pattern is the [**ReAct**](https://react-lm.github.io/) technique, displayed in the diagram above.\n",
        "\n",
        "In this notebook, you'll learn how this technique actually works. This is the **third lesson** of the \"Agentic Patterns from Scratch\" series. Take a look\n",
        "at the previous lessons if you haven't!\n",
        "\n",
        "* [First Lesson: The Reflection Pattern](https://github.com/neural-maze/agentic_patterns/blob/main/notebooks/reflection_pattern.ipynb)\n",
        "* [Second Lesson: The Tool Pattern](https://github.com/neural-maze/agentic_patterns/blob/main/notebooks/tool_pattern.ipynb)"
      ]
    },
    {
      "cell_type": "markdown",
      "id": "bd0dc83a-f11b-469d-bb2c-afbd91f39c5e",
      "metadata": {
        "id": "bd0dc83a-f11b-469d-bb2c-afbd91f39c5e"
      },
      "source": [
        "## Relevant imports and Groq Client"
      ]
    },
    {
      "cell_type": "markdown",
      "id": "605420e2-4bab-4d0a-90ac-7b9a95fd9976",
      "metadata": {
        "id": "605420e2-4bab-4d0a-90ac-7b9a95fd9976"
      },
      "source": [
        "We start by importing all the libraries we'll be using in this tutorial as well as the Groq client."
      ]
    },
    {
      "cell_type": "code",
      "execution_count": 14,
      "id": "056fc0ed-7ded-490b-ae0b-e7d1fd71430c",
      "metadata": {
        "id": "056fc0ed-7ded-490b-ae0b-e7d1fd71430c"
      },
      "outputs": [],
      "source": [
        "import os\n",
        "import re\n",
        "import math\n",
        "import json\n",
        "from dotenv import load_dotenv\n",
        "\n",
        "from groq import Groq\n",
        "\n",
        "from agentic_patterns.tool_pattern.tool import tool\n",
        "from agentic_patterns.utils.extraction import extract_tag_content\n",
        "\n",
        "\n",
        "# Remember to load the environment variables. You should have the Groq API Key in there :)\n",
        "load_dotenv()\n",
        "\n",
        "MODEL = \"llama-3.3-70b-versatile\"\n",
        "GROQ_CLIENT = Groq(api_key=\"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\")"
      ]
    },
    {
      "cell_type": "markdown",
      "id": "46f4363c-b6e0-4c4a-aa08-ad243ddf7911",
      "metadata": {
        "id": "46f4363c-b6e0-4c4a-aa08-ad243ddf7911"
      },
      "source": [
        "> If you are not familiar with the `tool` decorator, changes are you are missed the previous tutorial about the Tool Pattern. Check the video [here](https://www.youtube.com/watch?v=ApoDzZP8_ck&t=671s&ab_channel=TheNeuralMaze)."
      ]
    },
    {
      "cell_type": "markdown",
      "id": "af6735f3-00d3-4a41-acb8-f4afb4a759d4",
      "metadata": {
        "id": "af6735f3-00d3-4a41-acb8-f4afb4a759d4"
      },
      "source": [
        "## A System Prompt for the ReAct Loop"
      ]
    },
    {
      "cell_type": "markdown",
      "id": "69b721b1-cedf-4e61-9d0b-0c090972efce",
      "metadata": {
        "id": "69b721b1-cedf-4e61-9d0b-0c090972efce"
      },
      "source": [
        "As we did with the Tool Pattern, we also need a System Prompt for the ReAct technique. This System Prompt is very similar, the difference is that it describes the ReAct loop, so that the LLM is aware of\n",
        "the three operations it's allowed to use:\n",
        "\n",
        "1. Thought: The LLM will think about which action to take\n",
        "2. Action: The LLM will use a Tool to \"act on the environment\"\n",
        "3. Observation: The LLM will observe the tool output and reflect on the next thing to do.\n",
        "\n",
        "Another key difference from the Tool Pattern System Prompt is that we are going to enclose all the messages with tags, like these: <thought></thought>, <observation></observation>. We could implement the ReAct logic without these tags, but I found it eeasier for the LLM to understand the instructions this way.\n",
        "\n",
        "Ok! So without further ado, there's the prompt!"
      ]
    },
    {
      "cell_type": "code",
      "execution_count": 5,
      "id": "87279781-38d4-45df-b8b5-e41c587ba38b",
      "metadata": {
        "id": "87279781-38d4-45df-b8b5-e41c587ba38b"
      },
      "outputs": [],
      "source": [
        "# Define the System Prompt as a constant\n",
        "REACT_SYSTEM_PROMPT = \"\"\"\n",
        "You are a function calling AI model. You operate by running a loop with the following steps: Thought, Action, Observation.\n",
        "You are provided with function signatures within <tools></tools> XML tags.\n",
        "You may call one or more functions to assist with the user query. Don' make assumptions about what values to plug\n",
        "into functions. Pay special attention to the properties 'types'. You should use those types as in a Python dict.\n",
        "\n",
        "For each function call return a json object with function name and arguments within <tool_call></tool_call> XML tags as follows:\n",
        "\n",
        "<tool_call>\n",
        "{\"name\": <function-name>,\"arguments\": <args-dict>, \"id\": <monotonically-increasing-id>}\n",
        "</tool_call>\n",
        "\n",
        "Here are the available tools / actions:\n",
        "\n",
        "<tools>\n",
        "%s\n",
        "</tools>\n",
        "\n",
        "Example session:\n",
        "\n",
        "<question>What's the current temperature in Madrid?</question>\n",
        "<thought>I need to get the current weather in Madrid</thought>\n",
        "<tool_call>{\"name\": \"get_current_weather\",\"arguments\": {\"location\": \"Madrid\", \"unit\": \"celsius\"}, \"id\": 0}</tool_call>\n",
        "\n",
        "You will be called again with this:\n",
        "\n",
        "<observation>{0: {\"temperature\": 25, \"unit\": \"celsius\"}}</observation>\n",
        "\n",
        "You then output:\n",
        "\n",
        "<response>The current temperature in Madrid is 25 degrees Celsius</response>\n",
        "\n",
        "Additional constraints:\n",
        "\n",
        "- If the user asks you something unrelated to any of the tools above, answer freely enclosing your answer with <response></response> tags.\n",
        "\"\"\""
      ]
    },
    {
      "cell_type": "markdown",
      "id": "c3db5712-97dd-424c-bdf1-5da0970da03a",
      "metadata": {
        "id": "c3db5712-97dd-424c-bdf1-5da0970da03a"
      },
      "source": [
        "## Example step by step"
      ]
    },
    {
      "cell_type": "markdown",
      "id": "ddd00354-7ebc-44ec-9606-0a178af59b44",
      "metadata": {
        "id": "ddd00354-7ebc-44ec-9606-0a178af59b44"
      },
      "source": [
        "### Defining the Tools"
      ]
    },
    {
      "cell_type": "markdown",
      "id": "4c6360cd-b9f2-4427-91bc-27f010147c04",
      "metadata": {
        "id": "4c6360cd-b9f2-4427-91bc-27f010147c04"
      },
      "source": [
        "Let's build an example that involves the use of three tools, like the following ones."
      ]
    },
    {
      "cell_type": "code",
      "execution_count": 6,
      "id": "c1d3bec1-679d-4d80-bf41-bf54b00e985c",
      "metadata": {
        "id": "c1d3bec1-679d-4d80-bf41-bf54b00e985c"
      },
      "outputs": [],
      "source": [
        "@tool\n",
        "def sum_two_elements(a: int, b: int) -> int:\n",
        "    \"\"\"\n",
        "    Computes the sum of two integers.\n",
        "\n",
        "    Args:\n",
        "        a (int): The first integer to be summed.\n",
        "        b (int): The second integer to be summed.\n",
        "\n",
        "    Returns:\n",
        "        int: The sum of `a` and `b`.\n",
        "    \"\"\"\n",
        "    return a + b\n",
        "\n",
        "\n",
        "@tool\n",
        "def multiply_two_elements(a: int, b: int) -> int:\n",
        "    \"\"\"\n",
        "    Multiplies two integers.\n",
        "\n",
        "    Args:\n",
        "        a (int): The first integer to multiply.\n",
        "        b (int): The second integer to multiply.\n",
        "\n",
        "    Returns:\n",
        "        int: The product of `a` and `b`.\n",
        "    \"\"\"\n",
        "    return a * b\n",
        "\n",
        "@tool\n",
        "def compute_log(x: int) -> float | str:\n",
        "    \"\"\"\n",
        "    Computes the logarithm of an integer `x` with an optional base.\n",
        "\n",
        "    Args:\n",
        "        x (int): The integer value for which the logarithm is computed. Must be greater than 0.\n",
        "\n",
        "    Returns:\n",
        "        float: The logarithm of `x` to the specified `base`.\n",
        "    \"\"\"\n",
        "    if x <= 0:\n",
        "        return \"Logarithm is undefined for values less than or equal to 0.\"\n",
        "\n",
        "    return math.log(x)\n",
        "\n",
        "\n",
        "available_tools = {\n",
        "    \"sum_two_elements\": sum_two_elements,\n",
        "    \"multiply_two_elements\": multiply_two_elements,\n",
        "    \"compute_log\": compute_log\n",
        "}"
      ]
    },
    {
      "cell_type": "markdown",
      "id": "98c3044e-5d5c-44d0-973b-0c7c31f9724b",
      "metadata": {
        "id": "98c3044e-5d5c-44d0-973b-0c7c31f9724b"
      },
      "source": [
        "Remember that the `@tool` operator allows us to convert a Python function into a `Tool` automatically. We cana check that very easily with some of the functions above."
      ]
    },
    {
      "cell_type": "code",
      "execution_count": 7,
      "id": "2b7e2078-9c5d-4687-8c1b-56b36a0194db",
      "metadata": {
        "colab": {
          "base_uri": "https://localhost:8080/"
        },
        "id": "2b7e2078-9c5d-4687-8c1b-56b36a0194db",
        "outputId": "d3075f26-443f-4580-b135-1f8095c75584"
      },
      "outputs": [
        {
          "output_type": "stream",
          "name": "stdout",
          "text": [
            "Tool name:  sum_two_elements\n",
            "Tool signature:  {\"name\": \"sum_two_elements\", \"description\": \"\\n    Computes the sum of two integers.\\n\\n    Args:\\n        a (int): The first integer to be summed.\\n        b (int): The second integer to be summed.\\n\\n    Returns:\\n        int: The sum of `a` and `b`.\\n    \", \"parameters\": {\"properties\": {\"a\": {\"type\": \"int\"}, \"b\": {\"type\": \"int\"}}}}\n"
          ]
        }
      ],
      "source": [
        "print(\"Tool name: \", sum_two_elements.name)\n",
        "print(\"Tool signature: \", sum_two_elements.fn_signature)"
      ]
    },
    {
      "cell_type": "markdown",
      "id": "292a747b-f48a-4c36-b62f-b528466c53a8",
      "metadata": {
        "id": "292a747b-f48a-4c36-b62f-b528466c53a8"
      },
      "source": [
        "### Adding the Tools signature to the System Prompt"
      ]
    },
    {
      "cell_type": "markdown",
      "id": "67cabcdb-4dc4-49b3-9a9a-fc79e1ad12b0",
      "metadata": {
        "id": "67cabcdb-4dc4-49b3-9a9a-fc79e1ad12b0"
      },
      "source": [
        "Now, we just concatenate the tools signature and add them to the System Prompt."
      ]
    },
    {
      "cell_type": "code",
      "execution_count": 8,
      "id": "b464ea29-400c-482a-83f8-d64fba727ff8",
      "metadata": {
        "id": "b464ea29-400c-482a-83f8-d64fba727ff8"
      },
      "outputs": [],
      "source": [
        "tools_signature = sum_two_elements.fn_signature + \",\\n\" + multiply_two_elements.fn_signature + \",\\n\" + compute_log.fn_signature"
      ]
    },
    {
      "cell_type": "code",
      "execution_count": 9,
      "id": "501dd7c6-3ef2-46fb-bc01-a888692b8fa5",
      "metadata": {
        "colab": {
          "base_uri": "https://localhost:8080/"
        },
        "id": "501dd7c6-3ef2-46fb-bc01-a888692b8fa5",
        "outputId": "abec1bd1-b6c1-4dba-d251-2bf821077f76"
      },
      "outputs": [
        {
          "output_type": "stream",
          "name": "stdout",
          "text": [
            "{\"name\": \"sum_two_elements\", \"description\": \"\\n    Computes the sum of two integers.\\n\\n    Args:\\n        a (int): The first integer to be summed.\\n        b (int): The second integer to be summed.\\n\\n    Returns:\\n        int: The sum of `a` and `b`.\\n    \", \"parameters\": {\"properties\": {\"a\": {\"type\": \"int\"}, \"b\": {\"type\": \"int\"}}}},\n",
            "{\"name\": \"multiply_two_elements\", \"description\": \"\\n    Multiplies two integers.\\n\\n    Args:\\n        a (int): The first integer to multiply.\\n        b (int): The second integer to multiply.\\n\\n    Returns:\\n        int: The product of `a` and `b`.\\n    \", \"parameters\": {\"properties\": {\"a\": {\"type\": \"int\"}, \"b\": {\"type\": \"int\"}}}},\n",
            "{\"name\": \"compute_log\", \"description\": \"\\n    Computes the logarithm of an integer `x` with an optional base.\\n\\n    Args:\\n        x (int): The integer value for which the logarithm is computed. Must be greater than 0.\\n\\n    Returns:\\n        float: The logarithm of `x` to the specified `base`.\\n    \", \"parameters\": {\"properties\": {\"x\": {\"type\": \"int\"}}}}\n"
          ]
        }
      ],
      "source": [
        "print(tools_signature)"
      ]
    },
    {
      "cell_type": "code",
      "execution_count": 10,
      "id": "b52ea466-79c0-4898-9c0b-69a07c2ad1db",
      "metadata": {
        "id": "b52ea466-79c0-4898-9c0b-69a07c2ad1db"
      },
      "outputs": [],
      "source": [
        "REACT_SYSTEM_PROMPT = REACT_SYSTEM_PROMPT % tools_signature"
      ]
    },
    {
      "cell_type": "code",
      "execution_count": 11,
      "id": "40801b47-0021-4800-8364-9c515db1e419",
      "metadata": {
        "colab": {
          "base_uri": "https://localhost:8080/"
        },
        "id": "40801b47-0021-4800-8364-9c515db1e419",
        "outputId": "5df2247c-3808-4c3d-88d4-011f2583d865"
      },
      "outputs": [
        {
          "output_type": "stream",
          "name": "stdout",
          "text": [
            "\n",
            "You are a function calling AI model. You operate by running a loop with the following steps: Thought, Action, Observation.\n",
            "You are provided with function signatures within <tools></tools> XML tags.\n",
            "You may call one or more functions to assist with the user query. Don' make assumptions about what values to plug\n",
            "into functions. Pay special attention to the properties 'types'. You should use those types as in a Python dict.\n",
            "\n",
            "For each function call return a json object with function name and arguments within <tool_call></tool_call> XML tags as follows:\n",
            "\n",
            "<tool_call>\n",
            "{\"name\": <function-name>,\"arguments\": <args-dict>, \"id\": <monotonically-increasing-id>}\n",
            "</tool_call>\n",
            "\n",
            "Here are the available tools / actions:\n",
            "\n",
            "<tools> \n",
            "{\"name\": \"sum_two_elements\", \"description\": \"\\n    Computes the sum of two integers.\\n\\n    Args:\\n        a (int): The first integer to be summed.\\n        b (int): The second integer to be summed.\\n\\n    Returns:\\n        int: The sum of `a` and `b`.\\n    \", \"parameters\": {\"properties\": {\"a\": {\"type\": \"int\"}, \"b\": {\"type\": \"int\"}}}},\n",
            "{\"name\": \"multiply_two_elements\", \"description\": \"\\n    Multiplies two integers.\\n\\n    Args:\\n        a (int): The first integer to multiply.\\n        b (int): The second integer to multiply.\\n\\n    Returns:\\n        int: The product of `a` and `b`.\\n    \", \"parameters\": {\"properties\": {\"a\": {\"type\": \"int\"}, \"b\": {\"type\": \"int\"}}}},\n",
            "{\"name\": \"compute_log\", \"description\": \"\\n    Computes the logarithm of an integer `x` with an optional base.\\n\\n    Args:\\n        x (int): The integer value for which the logarithm is computed. Must be greater than 0.\\n\\n    Returns:\\n        float: The logarithm of `x` to the specified `base`.\\n    \", \"parameters\": {\"properties\": {\"x\": {\"type\": \"int\"}}}}\n",
            "</tools>\n",
            "\n",
            "Example session:\n",
            "\n",
            "<question>What's the current temperature in Madrid?</question>\n",
            "<thought>I need to get the current weather in Madrid</thought>\n",
            "<tool_call>{\"name\": \"get_current_weather\",\"arguments\": {\"location\": \"Madrid\", \"unit\": \"celsius\"}, \"id\": 0}</tool_call>\n",
            "\n",
            "You will be called again with this:\n",
            "\n",
            "<observation>{0: {\"temperature\": 25, \"unit\": \"celsius\"}}</observation>\n",
            "\n",
            "You then output:\n",
            "\n",
            "<response>The current temperature in Madrid is 25 degrees Celsius</response>\n",
            "\n",
            "Additional constraints:\n",
            "\n",
            "- If the user asks you something unrelated to any of the tools above, answer freely enclosing your answer with <response></response> tags.\n",
            "\n"
          ]
        }
      ],
      "source": [
        "print(REACT_SYSTEM_PROMPT)"
      ]
    },
    {
      "cell_type": "markdown",
      "id": "b2b1fd6c-253a-4a40-ab29-4d68fa976ac1",
      "metadata": {
        "id": "b2b1fd6c-253a-4a40-ab29-4d68fa976ac1"
      },
      "source": [
        "### ReAct Loop Step 1"
      ]
    },
    {
      "cell_type": "code",
      "execution_count": 12,
      "id": "cb771338-8865-4e37-8b8b-02a949f67c41",
      "metadata": {
        "id": "cb771338-8865-4e37-8b8b-02a949f67c41"
      },
      "outputs": [],
      "source": [
        "USER_QUESTION = \"I want to calculate the sum of 1234 and 5678 and multiply the result by 5. Then, I want to take the logarithm of this result\"\n",
        "chat_history = [\n",
        "    {\n",
        "        \"role\": \"system\",\n",
        "        \"content\": REACT_SYSTEM_PROMPT\n",
        "    },\n",
        "    {\n",
        "        \"role\": \"user\",\n",
        "        \"content\": f\"<question>{USER_QUESTION}</question>\"\n",
        "    }\n",
        "]\n"
      ]
    },
    {
      "cell_type": "code",
      "execution_count": 15,
      "id": "61faa368-e936-4bf2-9a88-df2a35bb205e",
      "metadata": {
        "colab": {
          "base_uri": "https://localhost:8080/"
        },
        "id": "61faa368-e936-4bf2-9a88-df2a35bb205e",
        "outputId": "48785b42-584d-47e0-f2a4-0d10a8d88436"
      },
      "outputs": [
        {
          "output_type": "stream",
          "name": "stdout",
          "text": [
            "<thought>I need to calculate the sum of 1234 and 5678, then multiply the result by 5, and finally compute the logarithm of this result. I'll start by summing 1234 and 5678.</thought>\n",
            "<tool_call>{\"name\": \"sum_two_elements\",\"arguments\": {\"a\": 1234, \"b\": 5678}, \"id\": 0}</tool_call>\n"
          ]
        }
      ],
      "source": [
        "output = GROQ_CLIENT.chat.completions.create(\n",
        "    messages=chat_history,\n",
        "    model=MODEL\n",
        ").choices[0].message.content\n",
        "\n",
        "print(output)"
      ]
    },
    {
      "cell_type": "code",
      "execution_count": 16,
      "id": "9514f9ab-c162-44f6-bc51-247061f811de",
      "metadata": {
        "id": "9514f9ab-c162-44f6-bc51-247061f811de"
      },
      "outputs": [],
      "source": [
        "chat_history.append(\n",
        "    {\n",
        "        \"role\": \"assistant\",\n",
        "        \"content\": output\n",
        "    }\n",
        ")"
      ]
    },
    {
      "cell_type": "markdown",
      "id": "cf7ce6ab-7325-4844-b4d1-1ba590d8aba9",
      "metadata": {
        "id": "cf7ce6ab-7325-4844-b4d1-1ba590d8aba9"
      },
      "source": [
        "### ReAct Loop Step 2"
      ]
    },
    {
      "cell_type": "code",
      "execution_count": 17,
      "id": "5a207669-3ced-43ee-8aad-c8ebf347f797",
      "metadata": {
        "id": "5a207669-3ced-43ee-8aad-c8ebf347f797"
      },
      "outputs": [],
      "source": [
        "tool_call = extract_tag_content(output, tag=\"tool_call\")"
      ]
    },
    {
      "cell_type": "code",
      "execution_count": 18,
      "id": "4614fe15-efa3-4111-b4e7-eb04e160f5f0",
      "metadata": {
        "colab": {
          "base_uri": "https://localhost:8080/"
        },
        "id": "4614fe15-efa3-4111-b4e7-eb04e160f5f0",
        "outputId": "3b66b5c0-90a6-4293-f2ac-60dce32cbff8"
      },
      "outputs": [
        {
          "output_type": "execute_result",
          "data": {
            "text/plain": [
              "TagContentResult(content=['{\"name\": \"sum_two_elements\",\"arguments\": {\"a\": 1234, \"b\": 5678}, \"id\": 0}'], found=True)"
            ]
          },
          "metadata": {},
          "execution_count": 18
        }
      ],
      "source": [
        "tool_call"
      ]
    },
    {
      "cell_type": "code",
      "execution_count": 19,
      "id": "3b7a6279-8cd6-4d18-8a9d-90ea04e552ed",
      "metadata": {
        "id": "3b7a6279-8cd6-4d18-8a9d-90ea04e552ed"
      },
      "outputs": [],
      "source": [
        "tool_call = json.loads(tool_call.content[0])"
      ]
    },
    {
      "cell_type": "code",
      "execution_count": 20,
      "id": "f5835594-0105-4452-9aac-7ca76fafaf6c",
      "metadata": {
        "colab": {
          "base_uri": "https://localhost:8080/"
        },
        "id": "f5835594-0105-4452-9aac-7ca76fafaf6c",
        "outputId": "a03e418a-790c-4b33-c6ef-79481261c8a5"
      },
      "outputs": [
        {
          "output_type": "execute_result",
          "data": {
            "text/plain": [
              "{'name': 'sum_two_elements', 'arguments': {'a': 1234, 'b': 5678}, 'id': 0}"
            ]
          },
          "metadata": {},
          "execution_count": 20
        }
      ],
      "source": [
        "tool_call"
      ]
    },
    {
      "cell_type": "code",
      "execution_count": 21,
      "id": "34259246-b8b6-4ae9-aa4b-1bf705fdb3d0",
      "metadata": {
        "id": "34259246-b8b6-4ae9-aa4b-1bf705fdb3d0"
      },
      "outputs": [],
      "source": [
        "tool_result = available_tools[tool_call[\"name\"]].run(**tool_call[\"arguments\"])"
      ]
    },
    {
      "cell_type": "code",
      "execution_count": 22,
      "id": "8724515b-4ba8-46a6-83fc-be472c2f1bd0",
      "metadata": {
        "id": "8724515b-4ba8-46a6-83fc-be472c2f1bd0"
      },
      "outputs": [],
      "source": [
        "assert tool_result == 1234 + 5678"
      ]
    },
    {
      "cell_type": "code",
      "execution_count": 23,
      "id": "a8196b58-708b-4c9c-a090-eb4ad213a927",
      "metadata": {
        "id": "a8196b58-708b-4c9c-a090-eb4ad213a927"
      },
      "outputs": [],
      "source": [
        "chat_history.append(\n",
        "    {\n",
        "        \"role\": \"user\",\n",
        "        \"content\": f\"<observation>{tool_result}</observation>\"\n",
        "    }\n",
        ")"
      ]
    },
    {
      "cell_type": "markdown",
      "id": "608684c2-18c3-4e13-885e-a8f1b5e40caa",
      "metadata": {
        "id": "608684c2-18c3-4e13-885e-a8f1b5e40caa"
      },
      "source": [
        "### ReAct Loop Step 3"
      ]
    },
    {
      "cell_type": "code",
      "execution_count": 24,
      "id": "4eb27636-9080-44bd-991c-5f89f96e2675",
      "metadata": {
        "colab": {
          "base_uri": "https://localhost:8080/"
        },
        "id": "4eb27636-9080-44bd-991c-5f89f96e2675",
        "outputId": "14cfd3dc-fa30-4de7-909c-c14e506b7b64"
      },
      "outputs": [
        {
          "output_type": "stream",
          "name": "stdout",
          "text": [
            "<thought>I have the sum of 1234 and 5678, which is 6912. Now, I need to multiply this result by 5.</thought>\n",
            "<tool_call>{\"name\": \"multiply_two_elements\",\"arguments\": {\"a\": 6912, \"b\": 5}, \"id\": 1}</tool_call>\n"
          ]
        }
      ],
      "source": [
        "output = GROQ_CLIENT.chat.completions.create(\n",
        "    messages=chat_history,\n",
        "    model=MODEL\n",
        ").choices[0].message.content\n",
        "\n",
        "print(output)"
      ]
    },
    {
      "cell_type": "code",
      "execution_count": 25,
      "id": "34603c55-b114-4ef7-be3a-ef0148eaddb8",
      "metadata": {
        "id": "34603c55-b114-4ef7-be3a-ef0148eaddb8"
      },
      "outputs": [],
      "source": [
        "chat_history.append(\n",
        "    {\n",
        "        \"role\": \"assistant\",\n",
        "        \"content\": output\n",
        "    }\n",
        ")"
      ]
    },
    {
      "cell_type": "markdown",
      "id": "0c855578-49e3-4bff-981c-16659ec1b4a4",
      "metadata": {
        "id": "0c855578-49e3-4bff-981c-16659ec1b4a4"
      },
      "source": [
        "### ReAct Loop Step 4"
      ]
    },
    {
      "cell_type": "code",
      "execution_count": 26,
      "id": "8d494dab-7e1d-44e8-a91d-685731d76864",
      "metadata": {
        "id": "8d494dab-7e1d-44e8-a91d-685731d76864"
      },
      "outputs": [],
      "source": [
        "tool_call = extract_tag_content(output, tag=\"tool_call\")\n",
        "tool_call = json.loads(tool_call.content[0])\n",
        "tool_result = available_tools[tool_call[\"name\"]].run(**tool_call[\"arguments\"])"
      ]
    },
    {
      "cell_type": "code",
      "execution_count": 27,
      "id": "33420c29-428e-4392-9c52-57b77d2fcc32",
      "metadata": {
        "colab": {
          "base_uri": "https://localhost:8080/"
        },
        "id": "33420c29-428e-4392-9c52-57b77d2fcc32",
        "outputId": "aefcdc3f-b333-47ab-9c60-b5b71df85035"
      },
      "outputs": [
        {
          "output_type": "execute_result",
          "data": {
            "text/plain": [
              "34560"
            ]
          },
          "metadata": {},
          "execution_count": 27
        }
      ],
      "source": [
        "tool_result"
      ]
    },
    {
      "cell_type": "code",
      "execution_count": 28,
      "id": "0b61013e-be7a-457e-8a57-329266b29cc0",
      "metadata": {
        "id": "0b61013e-be7a-457e-8a57-329266b29cc0"
      },
      "outputs": [],
      "source": [
        "assert tool_result == (1234 + 5678) * 5"
      ]
    },
    {
      "cell_type": "code",
      "execution_count": 29,
      "id": "d422e9d2-773b-461a-b04b-5b0de30d59e5",
      "metadata": {
        "id": "d422e9d2-773b-461a-b04b-5b0de30d59e5"
      },
      "outputs": [],
      "source": [
        "chat_history.append(\n",
        "    {\n",
        "        \"role\": \"user\",\n",
        "        \"content\": f\"<observation>{tool_result}</observation>\"\n",
        "    }\n",
        ")"
      ]
    },
    {
      "cell_type": "markdown",
      "id": "7b66d90d-6386-4026-8ea5-aa37a143c21c",
      "metadata": {
        "id": "7b66d90d-6386-4026-8ea5-aa37a143c21c"
      },
      "source": [
        "### ReAct Loop Step 5"
      ]
    },
    {
      "cell_type": "code",
      "execution_count": 30,
      "id": "9c5beee0-8684-4948-8e34-084dcab98eb0",
      "metadata": {
        "colab": {
          "base_uri": "https://localhost:8080/"
        },
        "id": "9c5beee0-8684-4948-8e34-084dcab98eb0",
        "outputId": "fe6af175-532a-4a42-9065-9a22dfbdf520"
      },
      "outputs": [
        {
          "output_type": "stream",
          "name": "stdout",
          "text": [
            "<thought>I have the product of 6912 and 5, which is 34560. Now, I need to compute the logarithm of this result.</thought>\n",
            "<tool_call>{\"name\": \"compute_log\",\"arguments\": {\"x\": 34560}, \"id\": 2}</tool_call>\n"
          ]
        }
      ],
      "source": [
        "output = GROQ_CLIENT.chat.completions.create(\n",
        "    messages=chat_history,\n",
        "    model=MODEL\n",
        ").choices[0].message.content\n",
        "\n",
        "print(output)"
      ]
    },
    {
      "cell_type": "code",
      "execution_count": 31,
      "id": "297ce32b-7460-477a-bd5f-2ddd8a45bf11",
      "metadata": {
        "id": "297ce32b-7460-477a-bd5f-2ddd8a45bf11"
      },
      "outputs": [],
      "source": [
        "chat_history.append(\n",
        "    {\n",
        "        \"role\": \"assistant\",\n",
        "        \"content\": output\n",
        "    }\n",
        ")"
      ]
    },
    {
      "cell_type": "markdown",
      "id": "4c1a336d-2795-41b4-88af-6fed9cebea60",
      "metadata": {
        "id": "4c1a336d-2795-41b4-88af-6fed9cebea60"
      },
      "source": [
        "### ReAct Loop Step 6"
      ]
    },
    {
      "cell_type": "code",
      "execution_count": 32,
      "id": "97eeb277-1486-4d8f-8441-8adbde84389e",
      "metadata": {
        "id": "97eeb277-1486-4d8f-8441-8adbde84389e"
      },
      "outputs": [],
      "source": [
        "tool_call = extract_tag_content(output, tag=\"tool_call\")\n",
        "tool_call = json.loads(tool_call.content[0])\n",
        "tool_result = available_tools[tool_call[\"name\"]].run(**tool_call[\"arguments\"])"
      ]
    },
    {
      "cell_type": "code",
      "execution_count": 33,
      "id": "d77818e5-ae29-42d4-8c6e-4527bcf56959",
      "metadata": {
        "colab": {
          "base_uri": "https://localhost:8080/"
        },
        "id": "d77818e5-ae29-42d4-8c6e-4527bcf56959",
        "outputId": "2edca426-a2ba-47af-f754-52a9bbd9b7c2"
      },
      "outputs": [
        {
          "output_type": "execute_result",
          "data": {
            "text/plain": [
              "10.450452222917992"
            ]
          },
          "metadata": {},
          "execution_count": 33
        }
      ],
      "source": [
        "tool_result"
      ]
    },
    {
      "cell_type": "code",
      "execution_count": 34,
      "id": "694284bb-64de-4f48-b0e2-c870b129a225",
      "metadata": {
        "id": "694284bb-64de-4f48-b0e2-c870b129a225"
      },
      "outputs": [],
      "source": [
        "assert tool_result == math.log((1234 + 5678) * 5)"
      ]
    },
    {
      "cell_type": "code",
      "execution_count": 35,
      "id": "c26c8ae7-a6f3-4d8c-b509-fb39054684bf",
      "metadata": {
        "id": "c26c8ae7-a6f3-4d8c-b509-fb39054684bf"
      },
      "outputs": [],
      "source": [
        "chat_history.append(\n",
        "    {\n",
        "        \"role\": \"user\",\n",
        "        \"content\": f\"<observation>{tool_result}</observation>\"\n",
        "    }\n",
        ")"
      ]
    },
    {
      "cell_type": "markdown",
      "id": "72c74a9e-edbe-487a-9cda-17260006e639",
      "metadata": {
        "id": "72c74a9e-edbe-487a-9cda-17260006e639"
      },
      "source": [
        "### ReAct Loop Step 7"
      ]
    },
    {
      "cell_type": "code",
      "execution_count": 36,
      "id": "d7faf46c-2ee2-4f40-b371-7a42a8885e8f",
      "metadata": {
        "colab": {
          "base_uri": "https://localhost:8080/"
        },
        "id": "d7faf46c-2ee2-4f40-b371-7a42a8885e8f",
        "outputId": "b375ce75-4d38-48ec-f258-0057fb3e92e2"
      },
      "outputs": [
        {
          "output_type": "stream",
          "name": "stdout",
          "text": [
            "<thought>I have the logarithm of 34560, which is approximately 10.45. I can now provide the final answer.</thought>\n",
            "<response>The sum of 1234 and 5678 is 6912. Multiplying this result by 5 gives 34560. The logarithm of this result is approximately 10.45.</response>\n"
          ]
        }
      ],
      "source": [
        "output = GROQ_CLIENT.chat.completions.create(\n",
        "    messages=chat_history,\n",
        "    model=MODEL\n",
        ").choices[0].message.content\n",
        "\n",
        "print(output)"
      ]
    },
    {
      "cell_type": "markdown",
      "source": [
        "## Putting it all together"
      ],
      "metadata": {
        "id": "IwyLOb7FMAmA"
      },
      "id": "IwyLOb7FMAmA"
    },
    {
      "cell_type": "code",
      "source": [
        "import json\n",
        "import re\n",
        "\n",
        "from colorama import Fore\n",
        "from dotenv import load_dotenv\n",
        "from groq import Groq\n",
        "\n",
        "from agentic_patterns.tool_pattern.tool import Tool\n",
        "from agentic_patterns.tool_pattern.tool import validate_arguments\n",
        "from agentic_patterns.utils.completions import build_prompt_structure\n",
        "from agentic_patterns.utils.completions import ChatHistory\n",
        "from agentic_patterns.utils.completions import completions_create\n",
        "from agentic_patterns.utils.completions import update_chat_history\n",
        "from agentic_patterns.utils.extraction import extract_tag_content\n",
        "\n",
        "load_dotenv()\n",
        "\n",
        "BASE_SYSTEM_PROMPT = \"\"\n",
        "\n",
        "\n",
        "REACT_SYSTEM_PROMPT = \"\"\"\n",
        "You operate by running a loop with the following steps: Thought, Action, Observation.\n",
        "You are provided with function signatures within <tools></tools> XML tags.\n",
        "You may call one or more functions to assist with the user query. Don' make assumptions about what values to plug\n",
        "into functions. Pay special attention to the properties 'types'. You should use those types as in a Python dict.\n",
        "\n",
        "For each function call return a json object with function name and arguments within <tool_call></tool_call> XML tags as follows:\n",
        "\n",
        "<tool_call>\n",
        "{\"name\": <function-name>,\"arguments\": <args-dict>, \"id\": <monotonically-increasing-id>}\n",
        "</tool_call>\n",
        "\n",
        "Here are the available tools / actions:\n",
        "\n",
        "<tools>\n",
        "%s\n",
        "</tools>\n",
        "\n",
        "Example session:\n",
        "\n",
        "<question>What's the current temperature in Madrid?</question>\n",
        "<thought>I need to get the current weather in Madrid</thought>\n",
        "<tool_call>{\"name\": \"get_current_weather\",\"arguments\": {\"location\": \"Madrid\", \"unit\": \"celsius\"}, \"id\": 0}</tool_call>\n",
        "\n",
        "You will be called again with this:\n",
        "\n",
        "<observation>{0: {\"temperature\": 25, \"unit\": \"celsius\"}}</observation>\n",
        "\n",
        "You then output:\n",
        "\n",
        "<response>The current temperature in Madrid is 25 degrees Celsius</response>\n",
        "\n",
        "Additional constraints:\n",
        "\n",
        "- If the user asks you something unrelated to any of the tools above, answer freely enclosing your answer with <response></response> tags.\n",
        "\"\"\"\n",
        "\n",
        "\n",
        "class ReactAgent:\n",
        "    \"\"\"\n",
        "    A class that represents an agent using the ReAct logic that interacts with tools to process\n",
        "    user inputs, make decisions, and execute tool calls. The agent can run interactive sessions,\n",
        "    collect tool signatures, and process multiple tool calls in a given round of interaction.\n",
        "\n",
        "    Attributes:\n",
        "        client (Groq): The Groq client used to handle model-based completions.\n",
        "        model (str): The name of the model used for generating responses. Default is \"llama-3.3-70b-versatile\".\n",
        "        tools (list[Tool]): A list of Tool instances available for execution.\n",
        "        tools_dict (dict): A dictionary mapping tool names to their corresponding Tool instances.\n",
        "    \"\"\"\n",
        "\n",
        "    def __init__(\n",
        "        self,\n",
        "        tools: Tool | list[Tool],\n",
        "        model: str = \"llama-3.3-70b-versatile\",\n",
        "        system_prompt: str = BASE_SYSTEM_PROMPT,\n",
        "    ) -> None:\n",
        "        self.client = Groq(api_key=\"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\")\n",
        "        self.model = model\n",
        "        self.system_prompt = system_prompt\n",
        "        self.tools = tools if isinstance(tools, list) else [tools]\n",
        "        self.tools_dict = {tool.name: tool for tool in self.tools}\n",
        "\n",
        "    def add_tool_signatures(self) -> str:\n",
        "        \"\"\"\n",
        "        Collects the function signatures of all available tools.\n",
        "\n",
        "        Returns:\n",
        "            str: A concatenated string of all tool function signatures in JSON format.\n",
        "        \"\"\"\n",
        "        return \"\".join([tool.fn_signature for tool in self.tools])\n",
        "\n",
        "    def process_tool_calls(self, tool_calls_content: list) -> dict:\n",
        "        \"\"\"\n",
        "        Processes each tool call, validates arguments, executes the tools, and collects results.\n",
        "\n",
        "        Args:\n",
        "            tool_calls_content (list): List of strings, each representing a tool call in JSON format.\n",
        "\n",
        "        Returns:\n",
        "            dict: A dictionary where the keys are tool call IDs and values are the results from the tools.\n",
        "        \"\"\"\n",
        "        observations = {}\n",
        "        for tool_call_str in tool_calls_content:\n",
        "            tool_call = json.loads(tool_call_str)\n",
        "            tool_name = tool_call[\"name\"]\n",
        "            tool = self.tools_dict[tool_name]\n",
        "\n",
        "            print(Fore.GREEN + f\"\\nUsing Tool: {tool_name}\")\n",
        "\n",
        "            # Validate and execute the tool call\n",
        "            validated_tool_call = validate_arguments(\n",
        "                tool_call, json.loads(tool.fn_signature)\n",
        "            )\n",
        "            print(Fore.GREEN + f\"\\nTool call dict: \\n{validated_tool_call}\")\n",
        "\n",
        "            result = tool.run(**validated_tool_call[\"arguments\"])\n",
        "            print(Fore.GREEN + f\"\\nTool result: \\n{result}\")\n",
        "\n",
        "            # Store the result using the tool call ID\n",
        "            observations[validated_tool_call[\"id\"]] = result\n",
        "\n",
        "        return observations\n",
        "\n",
        "    def run(\n",
        "        self,\n",
        "        user_msg: str,\n",
        "        max_rounds: int = 10,\n",
        "    ) -> str:\n",
        "        \"\"\"\n",
        "        Executes a user interaction session, where the agent processes user input, generates responses,\n",
        "        handles tool calls, and updates chat history until a final response is ready or the maximum\n",
        "        number of rounds is reached.\n",
        "\n",
        "        Args:\n",
        "            user_msg (str): The user's input message to start the interaction.\n",
        "            max_rounds (int, optional): Maximum number of interaction rounds the agent should perform. Default is 10.\n",
        "\n",
        "        Returns:\n",
        "            str: The final response generated by the agent after processing user input and any tool calls.\n",
        "        \"\"\"\n",
        "        user_prompt = build_prompt_structure(\n",
        "            prompt=user_msg, role=\"user\", tag=\"question\"\n",
        "        )\n",
        "        if self.tools:\n",
        "            self.system_prompt += (\n",
        "                \"\\n\" + REACT_SYSTEM_PROMPT % self.add_tool_signatures()\n",
        "            )\n",
        "\n",
        "        chat_history = ChatHistory(\n",
        "            [\n",
        "                build_prompt_structure(\n",
        "                    prompt=self.system_prompt,\n",
        "                    role=\"system\",\n",
        "                ),\n",
        "                user_prompt,\n",
        "            ]\n",
        "        )\n",
        "\n",
        "        if self.tools:\n",
        "            # Run the ReAct loop for max_rounds\n",
        "            for _ in range(max_rounds):\n",
        "\n",
        "                completion = completions_create(self.client, chat_history, self.model)\n",
        "\n",
        "                response = extract_tag_content(str(completion), \"response\")\n",
        "                if response.found:\n",
        "                    return response.content[0]\n",
        "\n",
        "                thought = extract_tag_content(str(completion), \"thought\")\n",
        "                tool_calls = extract_tag_content(str(completion), \"tool_call\")\n",
        "\n",
        "                update_chat_history(chat_history, completion, \"assistant\")\n",
        "\n",
        "                print(Fore.MAGENTA + f\"\\nThought: {thought.content[0]}\")\n",
        "\n",
        "                if tool_calls.found:\n",
        "                    observations = self.process_tool_calls(tool_calls.content)\n",
        "                    print(Fore.BLUE + f\"\\nObservations: {observations}\")\n",
        "                    update_chat_history(chat_history, f\"{observations}\", \"user\")\n",
        "\n",
        "        return completions_create(self.client, chat_history, self.model)\n"
      ],
      "metadata": {
        "id": "2aHaz2KOL1Qk"
      },
      "id": "2aHaz2KOL1Qk",
      "execution_count": 39,
      "outputs": []
    },
    {
      "cell_type": "code",
      "source": [
        "agent = ReactAgent(tools=[sum_two_elements, multiply_two_elements, compute_log])"
      ],
      "metadata": {
        "id": "CEWNaPCcMVqs"
      },
      "id": "CEWNaPCcMVqs",
      "execution_count": 40,
      "outputs": []
    },
    {
      "cell_type": "code",
      "source": [
        "agent.run(user_msg=\"I want to calculate the sum of 1234 and 5678 and multiply the result by 5. Then, I want to take the logarithm of this result\")"
      ],
      "metadata": {
        "id": "44Pb-WBeMY_n",
        "outputId": "138a0a6a-1780-418f-bf71-380935bab808",
        "colab": {
          "base_uri": "https://localhost:8080/",
          "height": 680
        }
      },
      "id": "44Pb-WBeMY_n",
      "execution_count": 41,
      "outputs": [
        {
          "output_type": "stream",
          "name": "stdout",
          "text": [
            "\u001b[35m\n",
            "Thought: I need to calculate the sum of 1234 and 5678, then multiply the result by 5, and finally compute the logarithm of this result. I will first call the sum_two_elements function to get the sum.\n",
            "\u001b[32m\n",
            "Using Tool: sum_two_elements\n",
            "\u001b[32m\n",
            "Tool call dict: \n",
            "{'name': 'sum_two_elements', 'arguments': {'a': 1234, 'b': 5678}, 'id': 0}\n",
            "\u001b[32m\n",
            "Tool result: \n",
            "6912\n",
            "\u001b[34m\n",
            "Observations: {0: 6912}\n",
            "\u001b[35m\n",
            "Thought: I have the sum of 1234 and 5678, which is 6912. Now, I need to multiply this result by 5.\n",
            "\u001b[32m\n",
            "Using Tool: multiply_two_elements\n",
            "\u001b[32m\n",
            "Tool call dict: \n",
            "{'name': 'multiply_two_elements', 'arguments': {'a': 6912, 'b': 5}, 'id': 1}\n",
            "\u001b[32m\n",
            "Tool result: \n",
            "34560\n",
            "\u001b[34m\n",
            "Observations: {1: 34560}\n",
            "\u001b[35m\n",
            "Thought: I have the product of 6912 and 5, which is 34560. Now, I need to compute the logarithm of this result.\n",
            "\u001b[32m\n",
            "Using Tool: compute_log\n",
            "\u001b[32m\n",
            "Tool call dict: \n",
            "{'name': 'compute_log', 'arguments': {'x': 34560}, 'id': 2}\n",
            "\u001b[32m\n",
            "Tool result: \n",
            "10.450452222917992\n",
            "\u001b[34m\n",
            "Observations: {2: 10.450452222917992}\n"
          ]
        },
        {
          "output_type": "execute_result",
          "data": {
            "text/plain": [
              "'The sum of 1234 and 5678 is 6912. Multiplying this result by 5 gives 34560. The logarithm of this result is approximately 10.45.'"
            ],
            "application/vnd.google.colaboratory.intrinsic+json": {
              "type": "string"
            }
          },
          "metadata": {},
          "execution_count": 41
        }
      ]
    },
    {
      "cell_type": "markdown",
      "id": "817c78d6-760f-4161-b08b-7be9bf1fe010",
      "metadata": {
        "id": "817c78d6-760f-4161-b08b-7be9bf1fe010"
      },
      "source": [
        "---\n",
        "\n",
        "We did it!! A ReAct Agent working as expected, completely from Scratch! 🚀🚀🚀🚀"
      ]
    }
  ],
  "metadata": {
    "kernelspec": {
      "display_name": "Python 3 (ipykernel)",
      "language": "python",
      "name": "python3"
    },
    "language_info": {
      "codemirror_mode": {
        "name": "ipython",
        "version": 3
      },
      "file_extension": ".py",
      "mimetype": "text/x-python",
      "name": "python",
      "nbconvert_exporter": "python",
      "pygments_lexer": "ipython3",
      "version": "3.11.3"
    },
    "colab": {
      "provenance": []
    }
  },
  "nbformat": 4,
  "nbformat_minor": 5
}